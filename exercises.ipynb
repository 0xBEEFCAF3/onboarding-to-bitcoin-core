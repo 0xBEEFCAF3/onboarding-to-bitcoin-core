{
 "cells": [
  {
   "cell_type": "markdown",
   "metadata": {
    "pycharm": {
     "name": "#%% md\n"
    }
   },
   "source": [
    "## Extending python path\n",
    "\n",
    "First we must add the path to Bitcoin Core's test_framework directory to the python system path\n",
    "\n",
    "The test_framework is found within the Bitcoin Core source directory's `/test/functional` directory, e.g. as shown below\n",
    "`/home/will/src/bitcoin/test/functional`"
   ]
  },
  {
   "cell_type": "code",
   "execution_count": 1,
   "metadata": {},
   "outputs": [],
   "source": [
    "# Add the functional test framework to our PATH\n",
    "import sys\n",
    "sys.path.insert(0, \"/home/will/src/bitcoin/test/functional\")"
   ]
  },
  {
   "cell_type": "markdown",
   "metadata": {
    "pycharm": {
     "name": "#%% md\n"
    }
   },
   "source": [
    "## Importing the TestShell class\n",
    "\n",
    "Next we can import the `TestShell` class which will let us control a regtest Bitcoin Core node using python commands\n",
    "equivalent to the `bitcoin-cli` ones."
   ]
  },
  {
   "cell_type": "code",
   "execution_count": 2,
   "metadata": {
    "pycharm": {
     "name": "#%%\n"
    }
   },
   "outputs": [],
   "source": [
    "# Import libraries\n",
    "from test_framework.test_shell import TestShell"
   ]
  },
  {
   "cell_type": "markdown",
   "metadata": {
    "pycharm": {
     "name": "#%% md\n"
    }
   },
   "source": [
    "## Node setup\n",
    "\n",
    "Finally, we must set up one or more nodes using the `setup()` method."
   ]
  },
  {
   "cell_type": "code",
   "execution_count": 3,
   "metadata": {
    "pycharm": {
     "name": "#%%\n"
    }
   },
   "outputs": [
    {
     "name": "stdout",
     "output_type": "stream",
     "text": [
      "2022-12-13T22:18:13.318000Z TestFramework (INFO): Initializing test directory /tmp/bitcoin_func_test_wbfjhnzg\n"
     ]
    }
   ],
   "source": [
    "# Setup our regtest environment\n",
    "test = TestShell().setup(\n",
    "    num_nodes=2,\n",
    "    setup_clean_chain=True,\n",
    ")"
   ]
  },
  {
   "cell_type": "markdown",
   "metadata": {},
   "source": [
    "## Node control\n",
    "\n",
    "Nodes are presented as a list stored in the `nodes` attribute of the `TestShell` object.\n",
    "Simply index the list to control the required node, e.g.:"
   ]
  },
  {
   "cell_type": "code",
   "execution_count": null,
   "metadata": {
    "pycharm": {
     "name": "#%%\n"
    }
   },
   "outputs": [],
   "source": [
    "node1 = test.nodes[0]\n",
    "node2 = test.nodes[1]\n"
   ]
  },
  {
   "cell_type": "markdown",
   "metadata": {},
   "source": []
  }
 ],
 "metadata": {
  "kernelspec": {
   "display_name": "Python 3 (ipykernel)",
   "language": "python",
   "name": "python3"
  },
  "language_info": {
   "codemirror_mode": {
    "name": "ipython",
    "version": 3
   },
   "file_extension": ".py",
   "mimetype": "text/x-python",
   "name": "python",
   "nbconvert_exporter": "python",
   "pygments_lexer": "ipython3",
   "version": "3.9.7"
  }
 },
 "nbformat": 4,
 "nbformat_minor": 1
}